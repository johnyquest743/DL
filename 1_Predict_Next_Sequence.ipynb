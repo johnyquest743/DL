{
  "nbformat": 4,
  "nbformat_minor": 0,
  "metadata": {
    "colab": {
      "name": "1_Predict Next Sequence.ipynb",
      "provenance": [],
      "collapsed_sections": []
    },
    "kernelspec": {
      "name": "python3",
      "display_name": "Python 3"
    },
    "language_info": {
      "name": "python"
    },
    "accelerator": "GPU"
  },
  "cells": [
    {
      "cell_type": "code",
      "metadata": {
        "id": "eMzh6CgayHyW"
      },
      "source": [
        "import tensorflow as tf\n",
        "import numpy as np"
      ],
      "execution_count": 1,
      "outputs": []
    },
    {
      "cell_type": "code",
      "metadata": {
        "colab": {
          "base_uri": "https://localhost:8080/"
        },
        "id": "e2ljKd9Byb-b",
        "outputId": "d50f2e7f-9197-47db-aa2b-d676632fafd4"
      },
      "source": [
        "# TRAINING DATASET\n",
        "x = np.arange(1, 100, 2)\n",
        "print(x)\n",
        "\n",
        "y=np.arange(3, 102 ,2)\n",
        "print(y)"
      ],
      "execution_count": 2,
      "outputs": [
        {
          "output_type": "stream",
          "text": [
            "[ 1  3  5  7  9 11 13 15 17 19 21 23 25 27 29 31 33 35 37 39 41 43 45 47\n",
            " 49 51 53 55 57 59 61 63 65 67 69 71 73 75 77 79 81 83 85 87 89 91 93 95\n",
            " 97 99]\n",
            "[  3   5   7   9  11  13  15  17  19  21  23  25  27  29  31  33  35  37\n",
            "  39  41  43  45  47  49  51  53  55  57  59  61  63  65  67  69  71  73\n",
            "  75  77  79  81  83  85  87  89  91  93  95  97  99 101]\n"
          ],
          "name": "stdout"
        }
      ]
    },
    {
      "cell_type": "code",
      "metadata": {
        "id": "MrL7NmMXys_8"
      },
      "source": [
        "#  DEFINING A MODEL\n",
        "model = tf.keras.models.Sequential([\n",
        "        tf.keras.layers.Dense(10, activation='relu', input_dim=1),\n",
        "        tf.keras.layers.Dense(1)\n",
        "])"
      ],
      "execution_count": 3,
      "outputs": []
    },
    {
      "cell_type": "code",
      "metadata": {
        "colab": {
          "base_uri": "https://localhost:8080/"
        },
        "id": "RxvH3W3pPq_B",
        "outputId": "64bb2e97-04ce-4108-af1a-171a133276af"
      },
      "source": [
        "# COMPILING AND TRAINING\n",
        "\n",
        "model.compile(loss=tf.keras.losses.MSE, optimizer='rmsprop', metrics=['accuracy', 'mae'])\n",
        "model.fit(x, y, epochs=500, verbose=0)"
      ],
      "execution_count": 4,
      "outputs": [
        {
          "output_type": "execute_result",
          "data": {
            "text/plain": [
              "<tensorflow.python.keras.callbacks.History at 0x7f7dbf3a6390>"
            ]
          },
          "metadata": {
            "tags": []
          },
          "execution_count": 4
        }
      ]
    },
    {
      "cell_type": "code",
      "metadata": {
        "colab": {
          "base_uri": "https://localhost:8080/"
        },
        "id": "Zfm1-094QoJ8",
        "outputId": "7ea6884d-ae65-4f36-bc11-88e9facaf2b3"
      },
      "source": [
        "# PREPARE AND PREDICTING DATA\n",
        "\n",
        "x_test = np.arange(201, 250, 2)\n",
        "print(x_test)\n",
        "\n",
        "y_test=np.arange(203, 252 ,2)\n",
        "print(y_test)\n",
        "\n",
        "y_pred = model.predict(x_test)\n",
        "print(y_pred)"
      ],
      "execution_count": 5,
      "outputs": [
        {
          "output_type": "stream",
          "text": [
            "[201 203 205 207 209 211 213 215 217 219 221 223 225 227 229 231 233 235\n",
            " 237 239 241 243 245 247 249]\n",
            "[203 205 207 209 211 213 215 217 219 221 223 225 227 229 231 233 235 237\n",
            " 239 241 243 245 247 249 251]\n",
            "[[203.49232]\n",
            " [205.4979 ]\n",
            " [207.50345]\n",
            " [209.509  ]\n",
            " [211.51456]\n",
            " [213.52011]\n",
            " [215.52568]\n",
            " [217.53127]\n",
            " [219.53682]\n",
            " [221.54237]\n",
            " [223.54794]\n",
            " [225.5535 ]\n",
            " [227.55905]\n",
            " [229.56462]\n",
            " [231.57018]\n",
            " [233.57576]\n",
            " [235.58131]\n",
            " [237.58687]\n",
            " [239.59242]\n",
            " [241.59799]\n",
            " [243.6036 ]\n",
            " [245.60913]\n",
            " [247.61472]\n",
            " [249.62029]\n",
            " [251.62582]]\n"
          ],
          "name": "stdout"
        }
      ]
    }
  ]
}